{
 "cells": [
  {
   "cell_type": "markdown",
   "metadata": {},
   "source": [
    "Assignment for week 1 by Sweta Jha"
   ]
  },
  {
   "cell_type": "code",
   "execution_count": 1,
   "metadata": {},
   "outputs": [],
   "source": [
    "import numpy as np\n",
    "import pandas as pd\n",
    "import matplotlib.pyplot as plt\n",
    "from sklearn.decomposition import PCA\n",
    "from sklearn.preprocessing import StandardScaler"
   ]
  },
  {
   "cell_type": "markdown",
   "metadata": {},
   "source": [
    "Load and Preprocess Data"
   ]
  },
  {
   "cell_type": "code",
   "execution_count": 3,
   "metadata": {},
   "outputs": [
    {
     "data": {
      "text/plain": [
       "(8041, 35)"
      ]
     },
     "execution_count": 3,
     "metadata": {},
     "output_type": "execute_result"
    }
   ],
   "source": [
    "df = pd.read_csv('PCA_practice_dataset.csv')\n",
    "df.head()\n",
    "X = df.to_numpy()\n",
    "X.shape\n"
   ]
  },
  {
   "cell_type": "code",
   "execution_count": 4,
   "metadata": {},
   "outputs": [],
   "source": [
    "scaler = StandardScaler()\n",
    "X = scaler.fit_transform(X)"
   ]
  },
  {
   "cell_type": "code",
   "execution_count": 13,
   "metadata": {},
   "outputs": [
    {
     "name": "stdout",
     "output_type": "stream",
     "text": [
      "Component required 90% threshold are :2\n",
      "Component required 91% threshold are :2\n",
      "Component required 92% threshold are :3\n",
      "Component required 93% threshold are :3\n",
      "Component required 94% threshold are :4\n",
      "Component required 95% threshold are :4\n",
      "Component required 96% threshold are :5\n",
      "Component required 97% threshold are :6\n"
     ]
    }
   ],
   "source": [
    "pca = PCA()\n",
    "X = pca.fit_transform(X)\n",
    "\n",
    "cumulative_variance = np.cumsum(pca.explained_variance_ratio_)*100\n",
    "\n",
    "thresholds = [i for i in range(90,97+1,1)]\n",
    "\n",
    "components =[np.argmax(cumulative_variance>threshold)for threshold in thresholds]\n",
    "\n",
    "for component,threshold in zip(components,thresholds):\n",
    "    print(\"Component required {}% threshold are :{}\".format(threshold,component))"
   ]
  },
  {
   "cell_type": "code",
   "execution_count": 14,
   "metadata": {},
   "outputs": [
    {
     "data": {
      "image/png": "[encoded data removed]",
      "text/plain": [
       "<matplotlib.figure.Figure at 0x7f69949b67b8>"
      ]
     },
     "metadata": {
      "needs_background": "light"
     },
     "output_type": "display_data"
    }
   ],
   "source": [
    "plt.plot(components, range(90,97+1,1),'ro-',linewidth=2)\n",
    "plt.title('Screen Plot')\n",
    "plt.xlabel('Principal Component')\n",
    "plt.ylabel('Threshold in %')\n",
    "plt.show()"
   ]
  },
  {
   "cell_type": "code",
   "execution_count": 15,
   "metadata": {},
   "outputs": [
    {
     "name": "stdout",
     "output_type": "stream",
     "text": [
      "Performing dimensionality reduction to retain 90% threshold\n",
      "After dimensionality reduction, new shape of the dataset is: (8041, 2)\n",
      "\n",
      "\n",
      "Performing dimensionality reduction to retain 91% threshold\n",
      "After dimensionality reduction, new shape of the dataset is: (8041, 2)\n",
      "\n",
      "\n",
      "Performing dimensionality reduction to retain 92% threshold\n",
      "After dimensionality reduction, new shape of the dataset is: (8041, 3)\n",
      "\n",
      "\n",
      "Performing dimensionality reduction to retain 93% threshold\n",
      "After dimensionality reduction, new shape of the dataset is: (8041, 3)\n",
      "\n",
      "\n",
      "Performing dimensionality reduction to retain 94% threshold\n",
      "After dimensionality reduction, new shape of the dataset is: (8041, 4)\n",
      "\n",
      "\n",
      "Performing dimensionality reduction to retain 95% threshold\n",
      "After dimensionality reduction, new shape of the dataset is: (8041, 4)\n",
      "\n",
      "\n",
      "Performing dimensionality reduction to retain 96% threshold\n",
      "After dimensionality reduction, new shape of the dataset is: (8041, 5)\n",
      "\n",
      "\n",
      "Performing dimensionality reduction to retain 97% threshold\n",
      "After dimensionality reduction, new shape of the dataset is: (8041, 6)\n",
      "\n",
      "\n"
     ]
    }
   ],
   "source": [
    "X_orig = X\n",
    "for component,var in zip(components, thresholds):\n",
    "    pca = PCA(n_components = component)\n",
    "    X_transformed = pca.fit_transform(X_orig)\n",
    "    print('Performing dimensionality reduction to retain {}% threshold'.format(var))\n",
    "    print('After dimensionality reduction, new shape of the dataset is:',X_transformed.shape)\n",
    "    print('\\n')"
   ]
  },
  {
   "cell_type": "code",
   "execution_count": null,
   "metadata": {},
   "outputs": [],
   "source": []
  }
 ],
 "metadata": {
  "kernelspec": {
   "display_name": "Python 3",
   "language": "python",
   "name": "python3"
  },
  "language_info": {
   "codemirror_mode": {
    "name": "ipython",
    "version": 3
   },
   "file_extension": ".py",
   "mimetype": "text/x-python",
   "name": "python",
   "nbconvert_exporter": "python",
   "pygments_lexer": "ipython3",
   "version": "3.6.9"
  }
 },
 "nbformat": 4,
 "nbformat_minor": 4
}
